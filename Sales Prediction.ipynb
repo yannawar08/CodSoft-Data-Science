{
 "cells": [
  {
   "cell_type": "code",
   "execution_count": 1,
   "id": "b3313167",
   "metadata": {},
   "outputs": [],
   "source": [
    "import pandas as pd\n",
    "import numpy as np "
   ]
  },
  {
   "cell_type": "code",
   "execution_count": 2,
   "id": "c7d0353c",
   "metadata": {},
   "outputs": [],
   "source": [
    "# Load Titanic dataset\n",
    "df= pd.read_csv(r\"C:\\Users\\yanna\\Downloads\\advertising.csv\")\n"
   ]
  },
  {
   "cell_type": "code",
   "execution_count": 3,
   "id": "dd2199be",
   "metadata": {},
   "outputs": [
    {
     "data": {
      "text/html": [
       "<div>\n",
       "<style scoped>\n",
       "    .dataframe tbody tr th:only-of-type {\n",
       "        vertical-align: middle;\n",
       "    }\n",
       "\n",
       "    .dataframe tbody tr th {\n",
       "        vertical-align: top;\n",
       "    }\n",
       "\n",
       "    .dataframe thead th {\n",
       "        text-align: right;\n",
       "    }\n",
       "</style>\n",
       "<table border=\"1\" class=\"dataframe\">\n",
       "  <thead>\n",
       "    <tr style=\"text-align: right;\">\n",
       "      <th></th>\n",
       "      <th>TV</th>\n",
       "      <th>Radio</th>\n",
       "      <th>Newspaper</th>\n",
       "      <th>Sales</th>\n",
       "    </tr>\n",
       "  </thead>\n",
       "  <tbody>\n",
       "    <tr>\n",
       "      <th>0</th>\n",
       "      <td>230.1</td>\n",
       "      <td>37.8</td>\n",
       "      <td>69.2</td>\n",
       "      <td>22.1</td>\n",
       "    </tr>\n",
       "    <tr>\n",
       "      <th>1</th>\n",
       "      <td>44.5</td>\n",
       "      <td>39.3</td>\n",
       "      <td>45.1</td>\n",
       "      <td>10.4</td>\n",
       "    </tr>\n",
       "    <tr>\n",
       "      <th>2</th>\n",
       "      <td>17.2</td>\n",
       "      <td>45.9</td>\n",
       "      <td>69.3</td>\n",
       "      <td>12.0</td>\n",
       "    </tr>\n",
       "    <tr>\n",
       "      <th>3</th>\n",
       "      <td>151.5</td>\n",
       "      <td>41.3</td>\n",
       "      <td>58.5</td>\n",
       "      <td>16.5</td>\n",
       "    </tr>\n",
       "    <tr>\n",
       "      <th>4</th>\n",
       "      <td>180.8</td>\n",
       "      <td>10.8</td>\n",
       "      <td>58.4</td>\n",
       "      <td>17.9</td>\n",
       "    </tr>\n",
       "    <tr>\n",
       "      <th>...</th>\n",
       "      <td>...</td>\n",
       "      <td>...</td>\n",
       "      <td>...</td>\n",
       "      <td>...</td>\n",
       "    </tr>\n",
       "    <tr>\n",
       "      <th>195</th>\n",
       "      <td>38.2</td>\n",
       "      <td>3.7</td>\n",
       "      <td>13.8</td>\n",
       "      <td>7.6</td>\n",
       "    </tr>\n",
       "    <tr>\n",
       "      <th>196</th>\n",
       "      <td>94.2</td>\n",
       "      <td>4.9</td>\n",
       "      <td>8.1</td>\n",
       "      <td>14.0</td>\n",
       "    </tr>\n",
       "    <tr>\n",
       "      <th>197</th>\n",
       "      <td>177.0</td>\n",
       "      <td>9.3</td>\n",
       "      <td>6.4</td>\n",
       "      <td>14.8</td>\n",
       "    </tr>\n",
       "    <tr>\n",
       "      <th>198</th>\n",
       "      <td>283.6</td>\n",
       "      <td>42.0</td>\n",
       "      <td>66.2</td>\n",
       "      <td>25.5</td>\n",
       "    </tr>\n",
       "    <tr>\n",
       "      <th>199</th>\n",
       "      <td>232.1</td>\n",
       "      <td>8.6</td>\n",
       "      <td>8.7</td>\n",
       "      <td>18.4</td>\n",
       "    </tr>\n",
       "  </tbody>\n",
       "</table>\n",
       "<p>200 rows × 4 columns</p>\n",
       "</div>"
      ],
      "text/plain": [
       "        TV  Radio  Newspaper  Sales\n",
       "0    230.1   37.8       69.2   22.1\n",
       "1     44.5   39.3       45.1   10.4\n",
       "2     17.2   45.9       69.3   12.0\n",
       "3    151.5   41.3       58.5   16.5\n",
       "4    180.8   10.8       58.4   17.9\n",
       "..     ...    ...        ...    ...\n",
       "195   38.2    3.7       13.8    7.6\n",
       "196   94.2    4.9        8.1   14.0\n",
       "197  177.0    9.3        6.4   14.8\n",
       "198  283.6   42.0       66.2   25.5\n",
       "199  232.1    8.6        8.7   18.4\n",
       "\n",
       "[200 rows x 4 columns]"
      ]
     },
     "execution_count": 3,
     "metadata": {},
     "output_type": "execute_result"
    }
   ],
   "source": [
    "df"
   ]
  },
  {
   "cell_type": "code",
   "execution_count": 4,
   "id": "04bfa156",
   "metadata": {},
   "outputs": [
    {
     "data": {
      "text/html": [
       "<div>\n",
       "<style scoped>\n",
       "    .dataframe tbody tr th:only-of-type {\n",
       "        vertical-align: middle;\n",
       "    }\n",
       "\n",
       "    .dataframe tbody tr th {\n",
       "        vertical-align: top;\n",
       "    }\n",
       "\n",
       "    .dataframe thead th {\n",
       "        text-align: right;\n",
       "    }\n",
       "</style>\n",
       "<table border=\"1\" class=\"dataframe\">\n",
       "  <thead>\n",
       "    <tr style=\"text-align: right;\">\n",
       "      <th></th>\n",
       "      <th>TV</th>\n",
       "      <th>Radio</th>\n",
       "      <th>Newspaper</th>\n",
       "      <th>Sales</th>\n",
       "    </tr>\n",
       "  </thead>\n",
       "  <tbody>\n",
       "    <tr>\n",
       "      <th>0</th>\n",
       "      <td>230.1</td>\n",
       "      <td>37.8</td>\n",
       "      <td>69.2</td>\n",
       "      <td>22.1</td>\n",
       "    </tr>\n",
       "    <tr>\n",
       "      <th>1</th>\n",
       "      <td>44.5</td>\n",
       "      <td>39.3</td>\n",
       "      <td>45.1</td>\n",
       "      <td>10.4</td>\n",
       "    </tr>\n",
       "    <tr>\n",
       "      <th>2</th>\n",
       "      <td>17.2</td>\n",
       "      <td>45.9</td>\n",
       "      <td>69.3</td>\n",
       "      <td>12.0</td>\n",
       "    </tr>\n",
       "    <tr>\n",
       "      <th>3</th>\n",
       "      <td>151.5</td>\n",
       "      <td>41.3</td>\n",
       "      <td>58.5</td>\n",
       "      <td>16.5</td>\n",
       "    </tr>\n",
       "    <tr>\n",
       "      <th>4</th>\n",
       "      <td>180.8</td>\n",
       "      <td>10.8</td>\n",
       "      <td>58.4</td>\n",
       "      <td>17.9</td>\n",
       "    </tr>\n",
       "  </tbody>\n",
       "</table>\n",
       "</div>"
      ],
      "text/plain": [
       "      TV  Radio  Newspaper  Sales\n",
       "0  230.1   37.8       69.2   22.1\n",
       "1   44.5   39.3       45.1   10.4\n",
       "2   17.2   45.9       69.3   12.0\n",
       "3  151.5   41.3       58.5   16.5\n",
       "4  180.8   10.8       58.4   17.9"
      ]
     },
     "execution_count": 4,
     "metadata": {},
     "output_type": "execute_result"
    }
   ],
   "source": [
    "df.head(5)"
   ]
  },
  {
   "cell_type": "code",
   "execution_count": 5,
   "id": "03350d28",
   "metadata": {},
   "outputs": [
    {
     "data": {
      "text/plain": [
       "(200, 4)"
      ]
     },
     "execution_count": 5,
     "metadata": {},
     "output_type": "execute_result"
    }
   ],
   "source": [
    "df.shape"
   ]
  },
  {
   "cell_type": "code",
   "execution_count": 6,
   "id": "e306816e",
   "metadata": {},
   "outputs": [
    {
     "data": {
      "text/plain": [
       "method"
      ]
     },
     "execution_count": 6,
     "metadata": {},
     "output_type": "execute_result"
    }
   ],
   "source": [
    "type(df.head)"
   ]
  },
  {
   "cell_type": "code",
   "execution_count": 7,
   "id": "f52e5208",
   "metadata": {},
   "outputs": [
    {
     "data": {
      "text/plain": [
       "pandas.core.frame.DataFrame"
      ]
     },
     "execution_count": 7,
     "metadata": {},
     "output_type": "execute_result"
    }
   ],
   "source": [
    "type(df)"
   ]
  },
  {
   "cell_type": "code",
   "execution_count": 8,
   "id": "7b4d1842",
   "metadata": {},
   "outputs": [
    {
     "data": {
      "text/plain": [
       "['TV', 'Radio', 'Newspaper', 'Sales']"
      ]
     },
     "execution_count": 8,
     "metadata": {},
     "output_type": "execute_result"
    }
   ],
   "source": [
    "df.columns.values.tolist()"
   ]
  },
  {
   "cell_type": "code",
   "execution_count": 9,
   "id": "06225d25",
   "metadata": {},
   "outputs": [
    {
     "data": {
      "text/html": [
       "<div>\n",
       "<style scoped>\n",
       "    .dataframe tbody tr th:only-of-type {\n",
       "        vertical-align: middle;\n",
       "    }\n",
       "\n",
       "    .dataframe tbody tr th {\n",
       "        vertical-align: top;\n",
       "    }\n",
       "\n",
       "    .dataframe thead th {\n",
       "        text-align: right;\n",
       "    }\n",
       "</style>\n",
       "<table border=\"1\" class=\"dataframe\">\n",
       "  <thead>\n",
       "    <tr style=\"text-align: right;\">\n",
       "      <th></th>\n",
       "      <th>TV</th>\n",
       "      <th>Radio</th>\n",
       "      <th>Newspaper</th>\n",
       "      <th>Sales</th>\n",
       "    </tr>\n",
       "  </thead>\n",
       "  <tbody>\n",
       "    <tr>\n",
       "      <th>count</th>\n",
       "      <td>200.000000</td>\n",
       "      <td>200.000000</td>\n",
       "      <td>200.000000</td>\n",
       "      <td>200.000000</td>\n",
       "    </tr>\n",
       "    <tr>\n",
       "      <th>mean</th>\n",
       "      <td>147.042500</td>\n",
       "      <td>23.264000</td>\n",
       "      <td>30.554000</td>\n",
       "      <td>15.130500</td>\n",
       "    </tr>\n",
       "    <tr>\n",
       "      <th>std</th>\n",
       "      <td>85.854236</td>\n",
       "      <td>14.846809</td>\n",
       "      <td>21.778621</td>\n",
       "      <td>5.283892</td>\n",
       "    </tr>\n",
       "    <tr>\n",
       "      <th>min</th>\n",
       "      <td>0.700000</td>\n",
       "      <td>0.000000</td>\n",
       "      <td>0.300000</td>\n",
       "      <td>1.600000</td>\n",
       "    </tr>\n",
       "    <tr>\n",
       "      <th>25%</th>\n",
       "      <td>74.375000</td>\n",
       "      <td>9.975000</td>\n",
       "      <td>12.750000</td>\n",
       "      <td>11.000000</td>\n",
       "    </tr>\n",
       "    <tr>\n",
       "      <th>50%</th>\n",
       "      <td>149.750000</td>\n",
       "      <td>22.900000</td>\n",
       "      <td>25.750000</td>\n",
       "      <td>16.000000</td>\n",
       "    </tr>\n",
       "    <tr>\n",
       "      <th>75%</th>\n",
       "      <td>218.825000</td>\n",
       "      <td>36.525000</td>\n",
       "      <td>45.100000</td>\n",
       "      <td>19.050000</td>\n",
       "    </tr>\n",
       "    <tr>\n",
       "      <th>max</th>\n",
       "      <td>296.400000</td>\n",
       "      <td>49.600000</td>\n",
       "      <td>114.000000</td>\n",
       "      <td>27.000000</td>\n",
       "    </tr>\n",
       "  </tbody>\n",
       "</table>\n",
       "</div>"
      ],
      "text/plain": [
       "               TV       Radio   Newspaper       Sales\n",
       "count  200.000000  200.000000  200.000000  200.000000\n",
       "mean   147.042500   23.264000   30.554000   15.130500\n",
       "std     85.854236   14.846809   21.778621    5.283892\n",
       "min      0.700000    0.000000    0.300000    1.600000\n",
       "25%     74.375000    9.975000   12.750000   11.000000\n",
       "50%    149.750000   22.900000   25.750000   16.000000\n",
       "75%    218.825000   36.525000   45.100000   19.050000\n",
       "max    296.400000   49.600000  114.000000   27.000000"
      ]
     },
     "execution_count": 9,
     "metadata": {},
     "output_type": "execute_result"
    }
   ],
   "source": [
    "df.describe()"
   ]
  },
  {
   "cell_type": "code",
   "execution_count": 10,
   "id": "af42289b",
   "metadata": {},
   "outputs": [
    {
     "name": "stdout",
     "output_type": "stream",
     "text": [
      "<class 'pandas.core.frame.DataFrame'>\n",
      "RangeIndex: 200 entries, 0 to 199\n",
      "Data columns (total 4 columns):\n",
      " #   Column     Non-Null Count  Dtype  \n",
      "---  ------     --------------  -----  \n",
      " 0   TV         200 non-null    float64\n",
      " 1   Radio      200 non-null    float64\n",
      " 2   Newspaper  200 non-null    float64\n",
      " 3   Sales      200 non-null    float64\n",
      "dtypes: float64(4)\n",
      "memory usage: 6.4 KB\n"
     ]
    }
   ],
   "source": [
    "df.info()"
   ]
  },
  {
   "cell_type": "code",
   "execution_count": 11,
   "id": "b7eb721c",
   "metadata": {},
   "outputs": [
    {
     "data": {
      "text/plain": [
       "TV           0\n",
       "Radio        0\n",
       "Newspaper    0\n",
       "Sales        0\n",
       "dtype: int64"
      ]
     },
     "execution_count": 11,
     "metadata": {},
     "output_type": "execute_result"
    }
   ],
   "source": [
    "df.isnull().sum()"
   ]
  },
  {
   "cell_type": "code",
   "execution_count": 12,
   "id": "c9f362ad",
   "metadata": {},
   "outputs": [
    {
     "data": {
      "text/plain": [
       "['TV', 'Radio', 'Newspaper', 'Sales']"
      ]
     },
     "execution_count": 12,
     "metadata": {},
     "output_type": "execute_result"
    }
   ],
   "source": [
    "df.columns.values.tolist()"
   ]
  },
  {
   "cell_type": "code",
   "execution_count": 13,
   "id": "a844840b",
   "metadata": {},
   "outputs": [
    {
     "name": "stdout",
     "output_type": "stream",
     "text": [
      "<class 'pandas.core.frame.DataFrame'>\n",
      "RangeIndex: 200 entries, 0 to 199\n",
      "Data columns (total 4 columns):\n",
      " #   Column     Non-Null Count  Dtype  \n",
      "---  ------     --------------  -----  \n",
      " 0   TV         200 non-null    float64\n",
      " 1   Radio      200 non-null    float64\n",
      " 2   Newspaper  200 non-null    float64\n",
      " 3   Sales      200 non-null    float64\n",
      "dtypes: float64(4)\n",
      "memory usage: 6.4 KB\n"
     ]
    }
   ],
   "source": [
    "df.info()"
   ]
  },
  {
   "cell_type": "code",
   "execution_count": 14,
   "id": "01d9adfe",
   "metadata": {},
   "outputs": [],
   "source": [
    "import matplotlib.pyplot as plt\n",
    "import seaborn as sns"
   ]
  },
  {
   "cell_type": "code",
   "execution_count": 15,
   "id": "f999a02c",
   "metadata": {},
   "outputs": [
    {
     "name": "stderr",
     "output_type": "stream",
     "text": [
      "C:\\ProgramData\\Anaconda3\\lib\\site-packages\\seaborn\\_decorators.py:36: FutureWarning: Pass the following variable as a keyword arg: x. From version 0.12, the only valid positional argument will be `data`, and passing other arguments without an explicit keyword will result in an error or misinterpretation.\n",
      "  warnings.warn(\n",
      "C:\\ProgramData\\Anaconda3\\lib\\site-packages\\seaborn\\_decorators.py:36: FutureWarning: Pass the following variable as a keyword arg: x. From version 0.12, the only valid positional argument will be `data`, and passing other arguments without an explicit keyword will result in an error or misinterpretation.\n",
      "  warnings.warn(\n",
      "C:\\ProgramData\\Anaconda3\\lib\\site-packages\\seaborn\\_decorators.py:36: FutureWarning: Pass the following variable as a keyword arg: x. From version 0.12, the only valid positional argument will be `data`, and passing other arguments without an explicit keyword will result in an error or misinterpretation.\n",
      "  warnings.warn(\n"
     ]
    },
    {
     "data": {
      "image/png": "[encoded data removed]",
      "text/plain": [
       "<Figure size 720x360 with 3 Axes>"
      ]
     },
     "metadata": {
      "needs_background": "light"
     },
     "output_type": "display_data"
    }
   ],
   "source": [
    "\n",
    "\n",
    "fig, axs = plt.subplots(3, figsize=(10, 5))\n",
    "plt1 = sns.boxplot(df[\"TV\"], ax= axs[0])\n",
    "plt2 = sns.boxplot(df[\"Newspaper\"], ax= axs[1])\n",
    "plt3 = sns.boxplot(df[\"Radio\"], ax= axs[2])\n",
    "plt.tight_layout()\n"
   ]
  },
  {
   "cell_type": "code",
   "execution_count": 16,
   "id": "2dcca426",
   "metadata": {},
   "outputs": [],
   "source": [
    "#plt1 = sns.boxplot(df[\"TV\"], ax= axs[0])"
   ]
  },
  {
   "cell_type": "code",
   "execution_count": 17,
   "id": "721d7bde",
   "metadata": {},
   "outputs": [],
   "source": [
    "#plt2 = sns.boxplot(df[\"Newspaper\"], ax= axs[1])"
   ]
  },
  {
   "cell_type": "code",
   "execution_count": 18,
   "id": "fc633dcb",
   "metadata": {},
   "outputs": [],
   "source": [
    "#plt3 = sns.boxplot(df[\"Radio\"], ax= axs[2])"
   ]
  },
  {
   "cell_type": "code",
   "execution_count": 19,
   "id": "57460ffd",
   "metadata": {},
   "outputs": [],
   "source": [
    "#plt.tight_layout()"
   ]
  },
  {
   "cell_type": "code",
   "execution_count": 20,
   "id": "8daa5ef9",
   "metadata": {},
   "outputs": [
    {
     "name": "stderr",
     "output_type": "stream",
     "text": [
      "C:\\ProgramData\\Anaconda3\\lib\\site-packages\\seaborn\\distributions.py:2619: FutureWarning: `distplot` is a deprecated function and will be removed in a future version. Please adapt your code to use either `displot` (a figure-level function with similar flexibility) or `histplot` (an axes-level function for histograms).\n",
      "  warnings.warn(msg, FutureWarning)\n"
     ]
    },
    {
     "data": {
      "text/plain": [
       "<AxesSubplot:xlabel='Newspaper', ylabel='Density'>"
      ]
     },
     "execution_count": 20,
     "metadata": {},
     "output_type": "execute_result"
    },
    {
     "data": {
      "image/png": "[encoded data removed]",
      "text/plain": [
       "<Figure size 432x288 with 1 Axes>"
      ]
     },
     "metadata": {
      "needs_background": "light"
     },
     "output_type": "display_data"
    }
   ],
   "source": [
    "sns.distplot(df['Newspaper'])"
   ]
  },
  {
   "cell_type": "code",
   "execution_count": 21,
   "id": "6d31fff5",
   "metadata": {},
   "outputs": [],
   "source": [
    "abc=df.Newspaper.quantile(0.75)- df.Newspaper.quantile(0.25)"
   ]
  },
  {
   "cell_type": "code",
   "execution_count": 22,
   "id": "56184004",
   "metadata": {},
   "outputs": [],
   "source": [
    "lower_bridge=df[\"Newspaper\"].quantile(0.25) - (abc*1.5)"
   ]
  },
  {
   "cell_type": "code",
   "execution_count": 23,
   "id": "745a088c",
   "metadata": {},
   "outputs": [],
   "source": [
    "upper_bridge=df[\"Newspaper\"].quantile(0.75) + (abc*1.5)"
   ]
  },
  {
   "cell_type": "code",
   "execution_count": 24,
   "id": "19490d39",
   "metadata": {},
   "outputs": [
    {
     "name": "stdout",
     "output_type": "stream",
     "text": [
      "-35.775000000000006\n"
     ]
    }
   ],
   "source": [
    "print(lower_bridge)"
   ]
  },
  {
   "cell_type": "code",
   "execution_count": 25,
   "id": "b3e3eacf",
   "metadata": {},
   "outputs": [
    {
     "name": "stdout",
     "output_type": "stream",
     "text": [
      "93.625\n"
     ]
    }
   ],
   "source": [
    "print(upper_bridge)"
   ]
  },
  {
   "cell_type": "code",
   "execution_count": 26,
   "id": "93ffe725",
   "metadata": {},
   "outputs": [],
   "source": [
    "data=df.copy()"
   ]
  },
  {
   "cell_type": "code",
   "execution_count": 27,
   "id": "e3b4caee",
   "metadata": {},
   "outputs": [],
   "source": [
    "data.loc[data[\"Newspaper\"]>93,\"Newspaper\"]=93"
   ]
  },
  {
   "cell_type": "code",
   "execution_count": 28,
   "id": "e0c0776b",
   "metadata": {},
   "outputs": [
    {
     "name": "stderr",
     "output_type": "stream",
     "text": [
      "C:\\ProgramData\\Anaconda3\\lib\\site-packages\\seaborn\\_decorators.py:36: FutureWarning: Pass the following variable as a keyword arg: x. From version 0.12, the only valid positional argument will be `data`, and passing other arguments without an explicit keyword will result in an error or misinterpretation.\n",
      "  warnings.warn(\n"
     ]
    },
    {
     "data": {
      "text/plain": [
       "<AxesSubplot:xlabel='Newspaper'>"
      ]
     },
     "execution_count": 28,
     "metadata": {},
     "output_type": "execute_result"
    },
    {
     "data": {
      "image/png": "[encoded data removed]",
      "text/plain": [
       "<Figure size 432x288 with 1 Axes>"
      ]
     },
     "metadata": {
      "needs_background": "light"
     },
     "output_type": "display_data"
    }
   ],
   "source": [
    "sns.boxplot(data[\"Newspaper\"])"
   ]
  },
  {
   "cell_type": "code",
   "execution_count": 29,
   "id": "4d8caf92",
   "metadata": {},
   "outputs": [
    {
     "name": "stderr",
     "output_type": "stream",
     "text": [
      "C:\\ProgramData\\Anaconda3\\lib\\site-packages\\seaborn\\_decorators.py:36: FutureWarning: Pass the following variable as a keyword arg: x. From version 0.12, the only valid positional argument will be `data`, and passing other arguments without an explicit keyword will result in an error or misinterpretation.\n",
      "  warnings.warn(\n"
     ]
    },
    {
     "data": {
      "text/plain": [
       "<AxesSubplot:xlabel='Sales'>"
      ]
     },
     "execution_count": 29,
     "metadata": {},
     "output_type": "execute_result"
    },
    {
     "data": {
      "image/png": "[encoded data removed]",
      "text/plain": [
       "<Figure size 432x288 with 1 Axes>"
      ]
     },
     "metadata": {
      "needs_background": "light"
     },
     "output_type": "display_data"
    }
   ],
   "source": [
    "sns.boxplot(data[\"Sales\"])"
   ]
  },
  {
   "cell_type": "code",
   "execution_count": 30,
   "id": "4452675d",
   "metadata": {},
   "outputs": [
    {
     "data": {
      "text/plain": [
       "<seaborn.axisgrid.PairGrid at 0x22880fc5df0>"
      ]
     },
     "execution_count": 30,
     "metadata": {},
     "output_type": "execute_result"
    },
    {
     "data": {
      "image/png": "[encoded data removed]",
      "text/plain": [
       "<Figure size 864x288 with 3 Axes>"
      ]
     },
     "metadata": {
      "needs_background": "light"
     },
     "output_type": "display_data"
    }
   ],
   "source": [
    "sns.pairplot(data,x_vars=[\"TV\",\"Newspaper\",\"Radio\"],\n",
    "                  y_vars=\"Sales\",height=4,aspect=1,kind=\"scatter\")"
   ]
  },
  {
   "cell_type": "code",
   "execution_count": 31,
   "id": "3bef8cbd",
   "metadata": {},
   "outputs": [
    {
     "data": {
      "text/plain": [
       "<AxesSubplot:>"
      ]
     },
     "execution_count": 31,
     "metadata": {},
     "output_type": "execute_result"
    },
    {
     "data": {
      "image/png": "[encoded data removed]",
      "text/plain": [
       "<Figure size 432x288 with 2 Axes>"
      ]
     },
     "metadata": {
      "needs_background": "light"
     },
     "output_type": "display_data"
    }
   ],
   "source": [
    "sns.heatmap(data.corr(), cmap=\"YlGnBu\", annot=True)\n",
    "#plt.show()"
   ]
  },
  {
   "cell_type": "code",
   "execution_count": 32,
   "id": "4e26592b",
   "metadata": {},
   "outputs": [],
   "source": [
    "important_features=list(df.corr()[\"Sales\"][(df.corr()[\"Sales\"]>+0.5)|(df.corr()['Sales']<-0.5)].index)"
   ]
  },
  {
   "cell_type": "code",
   "execution_count": 33,
   "id": "8d966d2d",
   "metadata": {},
   "outputs": [
    {
     "name": "stdout",
     "output_type": "stream",
     "text": [
      "['TV', 'Sales']\n"
     ]
    }
   ],
   "source": [
    "print(important_features)"
   ]
  },
  {
   "cell_type": "code",
   "execution_count": 34,
   "id": "d0b5e414",
   "metadata": {},
   "outputs": [],
   "source": [
    "x=data[\"TV\"]#\"TV\"}"
   ]
  },
  {
   "cell_type": "code",
   "execution_count": 35,
   "id": "c3d395ff",
   "metadata": {},
   "outputs": [],
   "source": [
    "y=data[\"Sales\"]"
   ]
  },
  {
   "cell_type": "code",
   "execution_count": 36,
   "id": "775b46f0",
   "metadata": {},
   "outputs": [],
   "source": [
    "x=x.values.reshape(-1,1)"
   ]
  },
  {
   "cell_type": "code",
   "execution_count": 37,
   "id": "72fa7cb8",
   "metadata": {},
   "outputs": [
    {
     "data": {
      "text/plain": [
       "array([[230.1],\n",
       "       [ 44.5],\n",
       "       [ 17.2],\n",
       "       [151.5],\n",
       "       [180.8],\n",
       "       [  8.7],\n",
       "       [ 57.5],\n",
       "       [120.2],\n",
       "       [  8.6],\n",
       "       [199.8],\n",
       "       [ 66.1],\n",
       "       [214.7],\n",
       "       [ 23.8],\n",
       "       [ 97.5],\n",
       "       [204.1],\n",
       "       [195.4],\n",
       "       [ 67.8],\n",
       "       [281.4],\n",
       "       [ 69.2],\n",
       "       [147.3],\n",
       "       [218.4],\n",
       "       [237.4],\n",
       "       [ 13.2],\n",
       "       [228.3],\n",
       "       [ 62.3],\n",
       "       [262.9],\n",
       "       [142.9],\n",
       "       [240.1],\n",
       "       [248.8],\n",
       "       [ 70.6],\n",
       "       [292.9],\n",
       "       [112.9],\n",
       "       [ 97.2],\n",
       "       [265.6],\n",
       "       [ 95.7],\n",
       "       [290.7],\n",
       "       [266.9],\n",
       "       [ 74.7],\n",
       "       [ 43.1],\n",
       "       [228. ],\n",
       "       [202.5],\n",
       "       [177. ],\n",
       "       [293.6],\n",
       "       [206.9],\n",
       "       [ 25.1],\n",
       "       [175.1],\n",
       "       [ 89.7],\n",
       "       [239.9],\n",
       "       [227.2],\n",
       "       [ 66.9],\n",
       "       [199.8],\n",
       "       [100.4],\n",
       "       [216.4],\n",
       "       [182.6],\n",
       "       [262.7],\n",
       "       [198.9],\n",
       "       [  7.3],\n",
       "       [136.2],\n",
       "       [210.8],\n",
       "       [210.7],\n",
       "       [ 53.5],\n",
       "       [261.3],\n",
       "       [239.3],\n",
       "       [102.7],\n",
       "       [131.1],\n",
       "       [ 69. ],\n",
       "       [ 31.5],\n",
       "       [139.3],\n",
       "       [237.4],\n",
       "       [216.8],\n",
       "       [199.1],\n",
       "       [109.8],\n",
       "       [ 26.8],\n",
       "       [129.4],\n",
       "       [213.4],\n",
       "       [ 16.9],\n",
       "       [ 27.5],\n",
       "       [120.5],\n",
       "       [  5.4],\n",
       "       [116. ],\n",
       "       [ 76.4],\n",
       "       [239.8],\n",
       "       [ 75.3],\n",
       "       [ 68.4],\n",
       "       [213.5],\n",
       "       [193.2],\n",
       "       [ 76.3],\n",
       "       [110.7],\n",
       "       [ 88.3],\n",
       "       [109.8],\n",
       "       [134.3],\n",
       "       [ 28.6],\n",
       "       [217.7],\n",
       "       [250.9],\n",
       "       [107.4],\n",
       "       [163.3],\n",
       "       [197.6],\n",
       "       [184.9],\n",
       "       [289.7],\n",
       "       [135.2],\n",
       "       [222.4],\n",
       "       [296.4],\n",
       "       [280.2],\n",
       "       [187.9],\n",
       "       [238.2],\n",
       "       [137.9],\n",
       "       [ 25. ],\n",
       "       [ 90.4],\n",
       "       [ 13.1],\n",
       "       [255.4],\n",
       "       [225.8],\n",
       "       [241.7],\n",
       "       [175.7],\n",
       "       [209.6],\n",
       "       [ 78.2],\n",
       "       [ 75.1],\n",
       "       [139.2],\n",
       "       [ 76.4],\n",
       "       [125.7],\n",
       "       [ 19.4],\n",
       "       [141.3],\n",
       "       [ 18.8],\n",
       "       [224. ],\n",
       "       [123.1],\n",
       "       [229.5],\n",
       "       [ 87.2],\n",
       "       [  7.8],\n",
       "       [ 80.2],\n",
       "       [220.3],\n",
       "       [ 59.6],\n",
       "       [  0.7],\n",
       "       [265.2],\n",
       "       [  8.4],\n",
       "       [219.8],\n",
       "       [ 36.9],\n",
       "       [ 48.3],\n",
       "       [ 25.6],\n",
       "       [273.7],\n",
       "       [ 43. ],\n",
       "       [184.9],\n",
       "       [ 73.4],\n",
       "       [193.7],\n",
       "       [220.5],\n",
       "       [104.6],\n",
       "       [ 96.2],\n",
       "       [140.3],\n",
       "       [240.1],\n",
       "       [243.2],\n",
       "       [ 38. ],\n",
       "       [ 44.7],\n",
       "       [280.7],\n",
       "       [121. ],\n",
       "       [197.6],\n",
       "       [171.3],\n",
       "       [187.8],\n",
       "       [  4.1],\n",
       "       [ 93.9],\n",
       "       [149.8],\n",
       "       [ 11.7],\n",
       "       [131.7],\n",
       "       [172.5],\n",
       "       [ 85.7],\n",
       "       [188.4],\n",
       "       [163.5],\n",
       "       [117.2],\n",
       "       [234.5],\n",
       "       [ 17.9],\n",
       "       [206.8],\n",
       "       [215.4],\n",
       "       [284.3],\n",
       "       [ 50. ],\n",
       "       [164.5],\n",
       "       [ 19.6],\n",
       "       [168.4],\n",
       "       [222.4],\n",
       "       [276.9],\n",
       "       [248.4],\n",
       "       [170.2],\n",
       "       [276.7],\n",
       "       [165.6],\n",
       "       [156.6],\n",
       "       [218.5],\n",
       "       [ 56.2],\n",
       "       [287.6],\n",
       "       [253.8],\n",
       "       [205. ],\n",
       "       [139.5],\n",
       "       [191.1],\n",
       "       [286. ],\n",
       "       [ 18.7],\n",
       "       [ 39.5],\n",
       "       [ 75.5],\n",
       "       [ 17.2],\n",
       "       [166.8],\n",
       "       [149.7],\n",
       "       [ 38.2],\n",
       "       [ 94.2],\n",
       "       [177. ],\n",
       "       [283.6],\n",
       "       [232.1]])"
      ]
     },
     "execution_count": 37,
     "metadata": {},
     "output_type": "execute_result"
    }
   ],
   "source": [
    "x"
   ]
  },
  {
   "cell_type": "code",
   "execution_count": 38,
   "id": "70611e42",
   "metadata": {},
   "outputs": [
    {
     "data": {
      "text/plain": [
       "0      22.1\n",
       "1      10.4\n",
       "2      12.0\n",
       "3      16.5\n",
       "4      17.9\n",
       "       ... \n",
       "195     7.6\n",
       "196    14.0\n",
       "197    14.8\n",
       "198    25.5\n",
       "199    18.4\n",
       "Name: Sales, Length: 200, dtype: float64"
      ]
     },
     "execution_count": 38,
     "metadata": {},
     "output_type": "execute_result"
    }
   ],
   "source": [
    "y"
   ]
  },
  {
   "cell_type": "code",
   "execution_count": 39,
   "id": "84936e54",
   "metadata": {},
   "outputs": [
    {
     "name": "stdout",
     "output_type": "stream",
     "text": [
      "(200, 1) (200,)\n"
     ]
    }
   ],
   "source": [
    "print(x.shape,y.shape)"
   ]
  },
  {
   "cell_type": "code",
   "execution_count": 40,
   "id": "8f3573df",
   "metadata": {},
   "outputs": [],
   "source": [
    "from sklearn.model_selection import train_test_split"
   ]
  },
  {
   "cell_type": "code",
   "execution_count": 41,
   "id": "b7ddd108",
   "metadata": {},
   "outputs": [],
   "source": [
    "x_train,x_test,y_train,y_test=train_test_split(x,y,test_size=0.2)"
   ]
  },
  {
   "cell_type": "code",
   "execution_count": 42,
   "id": "6e0ed51d",
   "metadata": {},
   "outputs": [
    {
     "name": "stdout",
     "output_type": "stream",
     "text": [
      "(160, 1) (160,)\n"
     ]
    }
   ],
   "source": [
    "print(x_train.shape,y_train.shape)"
   ]
  },
  {
   "cell_type": "code",
   "execution_count": 43,
   "id": "0bd6b085",
   "metadata": {},
   "outputs": [],
   "source": [
    "from sklearn.metrics import mean_squared_error,r2_score"
   ]
  },
  {
   "cell_type": "code",
   "execution_count": 44,
   "id": "1de72c3d",
   "metadata": {},
   "outputs": [],
   "source": [
    "from sklearn.model_selection import cross_val_score,GridSearchCV"
   ]
  },
  {
   "cell_type": "code",
   "execution_count": 45,
   "id": "51030f7e",
   "metadata": {},
   "outputs": [],
   "source": [
    "from sklearn.neighbors import KNeighborsRegressor\n"
   ]
  },
  {
   "cell_type": "code",
   "execution_count": 46,
   "id": "2d6f4519",
   "metadata": {},
   "outputs": [],
   "source": [
    "from sklearn.svm import SVR"
   ]
  },
  {
   "cell_type": "code",
   "execution_count": 47,
   "id": "e98ca0bf",
   "metadata": {},
   "outputs": [],
   "source": [
    "from sklearn.tree import DecisionTreeRegressor"
   ]
  },
  {
   "cell_type": "code",
   "execution_count": 48,
   "id": "3d75be62",
   "metadata": {},
   "outputs": [],
   "source": [
    "from sklearn.ensemble import RandomForestRegressor\n"
   ]
  },
  {
   "cell_type": "code",
   "execution_count": 49,
   "id": "3d5b3a22",
   "metadata": {},
   "outputs": [],
   "source": [
    "knn = KNeighborsRegressor().fit(x_train, y_train)"
   ]
  },
  {
   "cell_type": "code",
   "execution_count": 50,
   "id": "e327fe38",
   "metadata": {},
   "outputs": [
    {
     "data": {
      "text/plain": [
       "KNeighborsRegressor()"
      ]
     },
     "execution_count": 50,
     "metadata": {},
     "output_type": "execute_result"
    }
   ],
   "source": [
    "knn"
   ]
  },
  {
   "cell_type": "code",
   "execution_count": 51,
   "id": "a8337d9f",
   "metadata": {},
   "outputs": [],
   "source": [
    "knn_train_pred = knn.predict(x_train)"
   ]
  },
  {
   "cell_type": "code",
   "execution_count": 52,
   "id": "1538a077",
   "metadata": {},
   "outputs": [],
   "source": [
    "knn_test_pred = knn.predict(x_test)"
   ]
  },
  {
   "cell_type": "code",
   "execution_count": 53,
   "id": "f90f39a9",
   "metadata": {},
   "outputs": [
    {
     "name": "stdout",
     "output_type": "stream",
     "text": [
      "[11.94 22.46  9.8  11.68  9.8  21.86 11.94 14.7  17.76 20.54  7.82 18.14\n",
      " 11.28 13.14 10.7  20.06 11.28  9.8  19.02 20.86  8.64 20.7  20.36 17.08\n",
      "  5.96 17.72 16.66 13.48 19.54 19.52 19.36 17.76  8.26 19.16 21.9  17.32\n",
      " 20.86 19.16 19.94 13.74 21.22 13.6  20.7  19.02 16.28 19.76 20.06 18.46\n",
      " 11.94 20.72 14.8  18.12 19.02 20.84  5.26 12.86  8.7  13.72 11.94 12.36\n",
      " 19.52 18.3  12.34 21.02 19.32 13.84 13.64 19.74 12.34 16.66 21.86 14.8\n",
      "  7.92 21.02 20.84 21.86 13.2   5.96 10.1  20.84 19.92  8.2  20.36 15.26\n",
      " 10.7   7.92  5.96 16.58  4.44 20.72 10.44 20.84 18.92 19.78 19.52 19.64\n",
      "  9.8  13.    8.2  17.6  22.2  19.52 19.98  8.64 20.36 13.22 18.12  7.92\n",
      " 10.3  18.92 22.78  5.96 13.2  13.6  18.14 22.8  17.76  9.8  12.36 19.92\n",
      "  5.96 16.58 18.82 12.36 19.74 21.9  13.22  8.26 13.48 20.44 14.44  8.26\n",
      " 12.56 18.48 20.36 20.06 20.72  8.64  8.7  11.86 20.06 19.52 20.06 21.96\n",
      " 11.94 14.7  20.36 19.54 13.64 11.94 11.94  8.64 19.02 12.84 12.6   4.44\n",
      " 20.84 11.28 14.04 12.6 ] [12.34 17.76 19.38 21.96 10.1  21.86 20.32 12.36 12.36 13.64 13.86 12.86\n",
      "  7.92 12.6  13.64  7.82 22.2  19.94 10.24  7.92 11.94 12.6   5.92 19.78\n",
      " 20.32 16.28  9.98 12.92 18.38 20.84 14.04 12.56 12.34 12.86 13.48 10.1\n",
      " 10.24 13.5  19.32 22.46]\n"
     ]
    }
   ],
   "source": [
    "print(knn_train_pred, knn_test_pred )"
   ]
  },
  {
   "cell_type": "code",
   "execution_count": 54,
   "id": "78143115",
   "metadata": {},
   "outputs": [],
   "source": [
    "result=pd.DataFrame(columns=[\"Model\",\"Train R2\",\"test R2\",\"Test RMSE\",\"Variance\"])"
   ]
  },
  {
   "cell_type": "code",
   "execution_count": 55,
   "id": "f20e8a55",
   "metadata": {},
   "outputs": [],
   "source": [
    "#result"
   ]
  },
  {
   "cell_type": "code",
   "execution_count": 56,
   "id": "41a39dbd",
   "metadata": {},
   "outputs": [],
   "source": [
    "r2 = r2_score(y_test,knn_test_pred)"
   ]
  },
  {
   "cell_type": "code",
   "execution_count": 57,
   "id": "21712caa",
   "metadata": {},
   "outputs": [],
   "source": [
    "r2_train = r2_score(y_train,knn_train_pred)"
   ]
  },
  {
   "cell_type": "code",
   "execution_count": 58,
   "id": "308dd9e9",
   "metadata": {},
   "outputs": [],
   "source": [
    "rmse = np.sqrt(mean_squared_error(y_test,knn_test_pred))"
   ]
  },
  {
   "cell_type": "code",
   "execution_count": 59,
   "id": "986b42fc",
   "metadata": {},
   "outputs": [],
   "source": [
    "variance = r2_train - r2"
   ]
  },
  {
   "cell_type": "code",
   "execution_count": 60,
   "id": "e6ace662",
   "metadata": {},
   "outputs": [
    {
     "name": "stderr",
     "output_type": "stream",
     "text": [
      "C:\\Users\\yanna\\AppData\\Local\\Temp\\ipykernel_28860\\1885559217.py:2: FutureWarning: The frame.append method is deprecated and will be removed from pandas in a future version. Use pandas.concat instead.\n",
      "  result= result.append({\"Model\": \"K-Nearest Neighbors\", \"Train R2\": r2_train, \"Test R2\": r2, \"Test RMSE\": rmse, \"Variance\": variance}, ignore_index=True)\n"
     ]
    }
   ],
   "source": [
    "\n",
    "\n",
    "\n",
    "\n",
    "\n",
    "# Append results to the DataFrame\n",
    "result= result.append({\"Model\": \"K-Nearest Neighbors\", \"Train R2\": r2_train, \"Test R2\": r2, \"Test RMSE\": rmse, \"Variance\": variance}, ignore_index=True)\n",
    "#Results = Results.append({\"Model\":\"K-Nearest Neighbores\",\"Train R2\":r2_train,\"Test R2\":r2,\"Test RMSE\":rmse,\"Variance\":variance},igmore_index=True)"
   ]
  },
  {
   "cell_type": "code",
   "execution_count": 61,
   "id": "19a5b978",
   "metadata": {},
   "outputs": [
    {
     "name": "stdout",
     "output_type": "stream",
     "text": [
      "R2: 0.8697078592277556\n"
     ]
    }
   ],
   "source": [
    "print(\"R2:\",r2)"
   ]
  },
  {
   "cell_type": "code",
   "execution_count": 62,
   "id": "04df9cf5",
   "metadata": {},
   "outputs": [
    {
     "name": "stdout",
     "output_type": "stream",
     "text": [
      "RMSE: 1.666865321494211\n"
     ]
    }
   ],
   "source": [
    "print(\"RMSE:\",rmse)"
   ]
  },
  {
   "cell_type": "code",
   "execution_count": 63,
   "id": "55cb991b",
   "metadata": {
    "scrolled": true
   },
   "outputs": [
    {
     "data": {
      "text/html": [
       "<div>\n",
       "<style scoped>\n",
       "    .dataframe tbody tr th:only-of-type {\n",
       "        vertical-align: middle;\n",
       "    }\n",
       "\n",
       "    .dataframe tbody tr th {\n",
       "        vertical-align: top;\n",
       "    }\n",
       "\n",
       "    .dataframe thead th {\n",
       "        text-align: right;\n",
       "    }\n",
       "</style>\n",
       "<table border=\"1\" class=\"dataframe\">\n",
       "  <thead>\n",
       "    <tr style=\"text-align: right;\">\n",
       "      <th></th>\n",
       "      <th>Model</th>\n",
       "      <th>Train R2</th>\n",
       "      <th>test R2</th>\n",
       "      <th>Test RMSE</th>\n",
       "      <th>Variance</th>\n",
       "      <th>Test R2</th>\n",
       "    </tr>\n",
       "  </thead>\n",
       "  <tbody>\n",
       "    <tr>\n",
       "      <th>0</th>\n",
       "      <td>K-Nearest Neighbors</td>\n",
       "      <td>0.848348</td>\n",
       "      <td>NaN</td>\n",
       "      <td>1.666865</td>\n",
       "      <td>-0.02136</td>\n",
       "      <td>0.869708</td>\n",
       "    </tr>\n",
       "  </tbody>\n",
       "</table>\n",
       "</div>"
      ],
      "text/plain": [
       "                 Model  Train R2 test R2 Test RMSE Variance   Test R2\n",
       "0  K-Nearest Neighbors  0.848348     NaN  1.666865 -0.02136  0.869708"
      ]
     },
     "execution_count": 63,
     "metadata": {},
     "output_type": "execute_result"
    }
   ],
   "source": [
    "result.head()"
   ]
  },
  {
   "cell_type": "code",
   "execution_count": 64,
   "id": "ab8dcbee",
   "metadata": {},
   "outputs": [],
   "source": [
    "svr = SVR().fit(x_train,y_train)"
   ]
  },
  {
   "cell_type": "code",
   "execution_count": 65,
   "id": "38fdc0f6",
   "metadata": {},
   "outputs": [
    {
     "data": {
      "text/plain": [
       "SVR()"
      ]
     },
     "execution_count": 65,
     "metadata": {},
     "output_type": "execute_result"
    }
   ],
   "source": [
    "svr"
   ]
  },
  {
   "cell_type": "code",
   "execution_count": 66,
   "id": "305b518c",
   "metadata": {},
   "outputs": [],
   "source": [
    "svr_train_pred = svr.predict(x_train)"
   ]
  },
  {
   "cell_type": "code",
   "execution_count": 67,
   "id": "42e2ee09",
   "metadata": {},
   "outputs": [],
   "source": [
    "svr_test_pred = svr.predict(x_test)"
   ]
  },
  {
   "cell_type": "code",
   "execution_count": 68,
   "id": "078b44ef",
   "metadata": {},
   "outputs": [
    {
     "name": "stdout",
     "output_type": "stream",
     "text": [
      "[11.93102776 20.09730418  9.50848233 12.24620399  9.19037816 19.76492048\n",
      " 11.10713696 15.41685379 16.35253911 20.2688313   7.92266226 18.47702422\n",
      " 11.70439171 15.17135867 10.62362024 20.03542122 11.70439171  9.50187258\n",
      " 19.97166957 20.19535136  8.45704958 19.14011761 19.26473817 16.76847937\n",
      "  7.7733654  16.563168   17.17836337 13.48777148 18.36048628 18.83027188\n",
      " 19.62553613 16.49083401  8.07160075 18.14818052 20.07008921 16.65974128\n",
      " 20.1895533  18.12047149 19.28145354 13.23268314 20.24775633 13.63881441\n",
      " 19.13571444 18.24157973 17.10027412 18.00297358 20.01721556 18.6973605\n",
      " 11.16544985 19.74832291 15.65656005 18.44021077 19.97166957 20.29849905\n",
      "  7.72279541 14.9858123   8.78159084 14.75636707 11.81265573 12.50407051\n",
      " 18.74214943 17.40524878 11.60065188 20.21237049 17.64681533 14.2684528\n",
      " 14.13872509 20.22328652 11.63742991 17.17836337 19.93130011 15.55893423\n",
      "  8.13288421 20.20969342 20.30059732 19.87046284 14.80921405  7.79262828\n",
      "  9.85682456 20.29834253 19.42266218  8.51986238 19.3511831  15.95387626\n",
      " 10.80438656  8.09976289  7.7619326  16.90740624  7.65595258 19.70973842\n",
      " 10.48186914 20.29465449 19.50292612 17.82072899 19.43045265 18.96334369\n",
      "  9.17768481 13.78983798  8.55729778 19.56177053 19.95751191 18.83510953\n",
      " 19.67332058  8.36620688 19.34714062 15.02914059 18.42964632  8.13709367\n",
      "  9.97207706 19.50292612 20.13903765  7.78770109 14.8997627  13.53166003\n",
      " 18.47702422 20.04648032 16.36454294  9.27349592 12.32960268 19.40305261\n",
      "  7.79511963 16.83493647 17.51178753 12.46629416 20.25488976 20.10046231\n",
      " 15.08358638  8.05976862 13.48777148 19.76716361 14.4556402   8.07160075\n",
      " 12.86088565 19.89596943 19.01423717 20.03542122 19.69990532  8.42630883\n",
      "  8.61726237 11.64964962 20.02866193 19.82776821 20.03092408 20.15133225\n",
      " 11.20414026 15.55321649 19.01882417 18.36048628 14.01021443 11.05503312\n",
      " 11.25549039  8.43140084 19.99124101 13.84841907 12.78363619  7.69999752\n",
      " 20.30047459 11.69832925 14.57375434 12.68990265] [11.52035994 16.42462799 17.84944074 20.15982148  9.6147691  19.85020431\n",
      " 19.22244285 11.34467954 12.39009511 14.03484607 14.70906437 14.96961644\n",
      "  8.17131586 12.80946974 13.9954523   7.92595878 20.0095708  19.31863506\n",
      " 10.21017321  8.16266977 11.24267863 12.70560708  7.87833726 17.81497673\n",
      " 19.19240948 17.06417237  9.10834912 13.1384598  18.61657587 20.29913671\n",
      " 14.5428031  12.8762472  11.62519034 14.9750119  13.37043556  9.6014318\n",
      " 10.39374631 13.0233581  17.64681533 20.08304791]\n"
     ]
    }
   ],
   "source": [
    "print(svr_train_pred , svr_test_pred)"
   ]
  },
  {
   "cell_type": "code",
   "execution_count": 69,
   "id": "f495dc55",
   "metadata": {},
   "outputs": [],
   "source": [
    "r2 = r2_score(y_test,svr_test_pred)\n",
    "#r2_train = r2_score(y_train,svr_train_pred)\n",
    "#rmse = np.sqrt(mean_squared_error(y_test,svr_test_pred))\n",
    "#variance = r2_train - r2\n",
    "#result= result.append({\"Model\": \"K-Nearest Neighbors\", \"Train R2\": r2_train, \"Test R2\": r2, \"Test RMSE\": rmse, \"Variance\": variance}, ignore_index=True)\n",
    "#print(\"R2:\",r2)\n",
    "#print(\"RMSE:\",rmse)"
   ]
  },
  {
   "cell_type": "code",
   "execution_count": 70,
   "id": "29d57090",
   "metadata": {},
   "outputs": [],
   "source": [
    "r2_train = r2_score(y_train,svr_train_pred)"
   ]
  },
  {
   "cell_type": "code",
   "execution_count": 71,
   "id": "160340de",
   "metadata": {},
   "outputs": [],
   "source": [
    "rmse = np.sqrt(mean_squared_error(y_test,svr_test_pred))"
   ]
  },
  {
   "cell_type": "code",
   "execution_count": 72,
   "id": "019ee991",
   "metadata": {},
   "outputs": [],
   "source": [
    "variance = r2_train - r2"
   ]
  },
  {
   "cell_type": "code",
   "execution_count": 73,
   "id": "41f8b77e",
   "metadata": {},
   "outputs": [
    {
     "name": "stderr",
     "output_type": "stream",
     "text": [
      "C:\\Users\\yanna\\AppData\\Local\\Temp\\ipykernel_28860\\3093656446.py:1: FutureWarning: The frame.append method is deprecated and will be removed from pandas in a future version. Use pandas.concat instead.\n",
      "  result= result.append({\"Model\": \"K-Nearest Neighbors\", \"Train R2\": r2_train, \"Test R2\": r2, \"Test RMSE\": rmse, \"Variance\": variance}, ignore_index=True)\n"
     ]
    }
   ],
   "source": [
    "result= result.append({\"Model\": \"K-Nearest Neighbors\", \"Train R2\": r2_train, \"Test R2\": r2, \"Test RMSE\": rmse, \"Variance\": variance}, ignore_index=True)"
   ]
  },
  {
   "cell_type": "code",
   "execution_count": 74,
   "id": "79471cbc",
   "metadata": {},
   "outputs": [
    {
     "name": "stdout",
     "output_type": "stream",
     "text": [
      "R2: 0.8422395802345031\n"
     ]
    }
   ],
   "source": [
    "print(\"R2:\",r2)"
   ]
  },
  {
   "cell_type": "code",
   "execution_count": 75,
   "id": "3bbabd6f",
   "metadata": {},
   "outputs": [
    {
     "name": "stdout",
     "output_type": "stream",
     "text": [
      "RMSE: 1.8341735570470614\n"
     ]
    }
   ],
   "source": [
    "print(\"RMSE:\",rmse)"
   ]
  },
  {
   "cell_type": "code",
   "execution_count": 76,
   "id": "46778b01",
   "metadata": {},
   "outputs": [
    {
     "data": {
      "text/html": [
       "<div>\n",
       "<style scoped>\n",
       "    .dataframe tbody tr th:only-of-type {\n",
       "        vertical-align: middle;\n",
       "    }\n",
       "\n",
       "    .dataframe tbody tr th {\n",
       "        vertical-align: top;\n",
       "    }\n",
       "\n",
       "    .dataframe thead th {\n",
       "        text-align: right;\n",
       "    }\n",
       "</style>\n",
       "<table border=\"1\" class=\"dataframe\">\n",
       "  <thead>\n",
       "    <tr style=\"text-align: right;\">\n",
       "      <th></th>\n",
       "      <th>Model</th>\n",
       "      <th>Train R2</th>\n",
       "      <th>test R2</th>\n",
       "      <th>Test RMSE</th>\n",
       "      <th>Variance</th>\n",
       "      <th>Test R2</th>\n",
       "    </tr>\n",
       "  </thead>\n",
       "  <tbody>\n",
       "    <tr>\n",
       "      <th>0</th>\n",
       "      <td>K-Nearest Neighbors</td>\n",
       "      <td>0.848348</td>\n",
       "      <td>NaN</td>\n",
       "      <td>1.666865</td>\n",
       "      <td>-0.02136</td>\n",
       "      <td>0.869708</td>\n",
       "    </tr>\n",
       "    <tr>\n",
       "      <th>1</th>\n",
       "      <td>K-Nearest Neighbors</td>\n",
       "      <td>0.800663</td>\n",
       "      <td>NaN</td>\n",
       "      <td>1.834174</td>\n",
       "      <td>-0.041577</td>\n",
       "      <td>0.842240</td>\n",
       "    </tr>\n",
       "  </tbody>\n",
       "</table>\n",
       "</div>"
      ],
      "text/plain": [
       "                 Model  Train R2 test R2 Test RMSE  Variance   Test R2\n",
       "0  K-Nearest Neighbors  0.848348     NaN  1.666865  -0.02136  0.869708\n",
       "1  K-Nearest Neighbors  0.800663     NaN  1.834174 -0.041577  0.842240"
      ]
     },
     "execution_count": 76,
     "metadata": {},
     "output_type": "execute_result"
    }
   ],
   "source": [
    "result.head()"
   ]
  },
  {
   "cell_type": "code",
   "execution_count": 77,
   "id": "d5da116c",
   "metadata": {},
   "outputs": [],
   "source": [
    "import statsmodels.api as sm"
   ]
  },
  {
   "cell_type": "code",
   "execution_count": 78,
   "id": "15647355",
   "metadata": {},
   "outputs": [],
   "source": [
    "x_train_constant = sm.add_constant(x_train)"
   ]
  },
  {
   "cell_type": "code",
   "execution_count": 79,
   "id": "4bce7a2c",
   "metadata": {},
   "outputs": [],
   "source": [
    "model = sm.OLS(y_train,x_train_constant).fit()"
   ]
  },
  {
   "cell_type": "code",
   "execution_count": 80,
   "id": "a54f3cf4",
   "metadata": {},
   "outputs": [
    {
     "data": {
      "text/plain": [
       "const    6.946302\n",
       "x1       0.056021\n",
       "dtype: float64"
      ]
     },
     "execution_count": 80,
     "metadata": {},
     "output_type": "execute_result"
    }
   ],
   "source": [
    "model.params"
   ]
  },
  {
   "cell_type": "code",
   "execution_count": 81,
   "id": "2f97e994",
   "metadata": {
    "scrolled": false
   },
   "outputs": [
    {
     "name": "stdout",
     "output_type": "stream",
     "text": [
      "                            OLS Regression Results                            \n",
      "==============================================================================\n",
      "Dep. Variable:                  Sales   R-squared:                       0.804\n",
      "Model:                            OLS   Adj. R-squared:                  0.803\n",
      "Method:                 Least Squares   F-statistic:                     649.6\n",
      "Date:                Tue, 23 Jan 2024   Prob (F-statistic):           7.48e-58\n",
      "Time:                        10:40:43   Log-Likelihood:                -365.87\n",
      "No. Observations:                 160   AIC:                             735.7\n",
      "Df Residuals:                     158   BIC:                             741.9\n",
      "Df Model:                           1                                         \n",
      "Covariance Type:            nonrobust                                         \n",
      "==============================================================================\n",
      "                 coef    std err          t      P>|t|      [0.025      0.975]\n",
      "------------------------------------------------------------------------------\n",
      "const          6.9463      0.382     18.161      0.000       6.191       7.702\n",
      "x1             0.0560      0.002     25.487      0.000       0.052       0.060\n",
      "==============================================================================\n",
      "Omnibus:                        0.248   Durbin-Watson:                   2.170\n",
      "Prob(Omnibus):                  0.883   Jarque-Bera (JB):                0.264\n",
      "Skew:                          -0.092   Prob(JB):                        0.876\n",
      "Kurtosis:                       2.925   Cond. No.                         351.\n",
      "==============================================================================\n",
      "\n",
      "Notes:\n",
      "[1] Standard Errors assume that the covariance matrix of the errors is correctly specified.\n"
     ]
    }
   ],
   "source": [
    "print(model.summary())"
   ]
  },
  {
   "cell_type": "code",
   "execution_count": 82,
   "id": "fa57181a",
   "metadata": {},
   "outputs": [
    {
     "data": {
      "text/plain": [
       "<matplotlib.collections.PathCollection at 0x22884183ee0>"
      ]
     },
     "execution_count": 82,
     "metadata": {},
     "output_type": "execute_result"
    },
    {
     "data": {
      "image/png": "[encoded data removed]",
      "text/plain": [
       "<Figure size 432x288 with 1 Axes>"
      ]
     },
     "metadata": {
      "needs_background": "light"
     },
     "output_type": "display_data"
    }
   ],
   "source": [
    "plt.scatter(x_train,y_train)"
   ]
  },
  {
   "cell_type": "code",
   "execution_count": 83,
   "id": "6cdaf59b",
   "metadata": {},
   "outputs": [
    {
     "data": {
      "text/plain": [
       "[<matplotlib.lines.Line2D at 0x228841e9700>]"
      ]
     },
     "execution_count": 83,
     "metadata": {},
     "output_type": "execute_result"
    },
    {
     "data": {
      "image/png": "[encoded data removed]",
      "text/plain": [
       "<Figure size 432x288 with 1 Axes>"
      ]
     },
     "metadata": {
      "needs_background": "light"
     },
     "output_type": "display_data"
    }
   ],
   "source": [
    "plt.plot(x_train,6.9955 + 0.0541 * x_train,\"y\")"
   ]
  },
  {
   "cell_type": "code",
   "execution_count": 84,
   "id": "09a9aa6e",
   "metadata": {},
   "outputs": [
    {
     "data": {
      "image/png": "[encoded data removed]",
      "text/plain": [
       "<Figure size 432x288 with 1 Axes>"
      ]
     },
     "metadata": {
      "needs_background": "light"
     },
     "output_type": "display_data"
    }
   ],
   "source": [
    "plt.scatter(x_train,y_train)\n",
    "plt.plot(x_train,6.9955 + 0.0541 * x_train,\"y\")\n",
    "plt.show()"
   ]
  },
  {
   "cell_type": "code",
   "execution_count": 85,
   "id": "fb00333d",
   "metadata": {},
   "outputs": [],
   "source": [
    "y_train_pred = model.predict(x_train_constant)"
   ]
  },
  {
   "cell_type": "code",
   "execution_count": 86,
   "id": "c2c1177c",
   "metadata": {},
   "outputs": [],
   "source": [
    "res = (y_train - y_train_pred)"
   ]
  },
  {
   "cell_type": "code",
   "execution_count": 87,
   "id": "97d8fec7",
   "metadata": {},
   "outputs": [
    {
     "data": {
      "text/plain": [
       "127    0.460775\n",
       "198    2.666004\n",
       "38     0.739172\n",
       "161    1.552657\n",
       "195   -1.486322\n",
       "         ...   \n",
       "155   -3.975990\n",
       "54    -1.463147\n",
       "86     0.779259\n",
       "159   -1.424332\n",
       "156    3.093281\n",
       "Name: Sales, Length: 160, dtype: float64"
      ]
     },
     "execution_count": 87,
     "metadata": {},
     "output_type": "execute_result"
    }
   ],
   "source": [
    "res"
   ]
  },
  {
   "cell_type": "code",
   "execution_count": 88,
   "id": "d7f502fd",
   "metadata": {},
   "outputs": [
    {
     "data": {
      "text/plain": [
       "array([11.43922494, 22.83399584,  9.36082769, 11.74734313,  9.0863224 ,\n",
       "       23.5510709 , 10.69413913, 15.19826686, 16.09461069, 21.25418984,\n",
       "        7.68018302, 18.13939504, 11.22634328, 14.95177231, 10.28518226,\n",
       "       20.39706106, 11.22634328,  9.35522554, 20.24580304, 20.88444801,\n",
       "        8.38045163, 18.90688945, 19.06935177, 16.48115897,  7.38326913,\n",
       "       16.2906859 , 16.86210509, 13.09746102, 18.01614777, 18.53154547,\n",
       "       19.59595376, 16.22346012,  7.90987112, 17.79766396, 20.48669544,\n",
       "       16.38032029, 20.86203942, 17.76965322, 19.09176036, 12.80614928,\n",
       "       22.27938309, 13.27112764, 18.9012873 , 17.89290049, 16.78927716,\n",
       "       17.65200809, 20.35224387, 18.38028745, 10.74455848, 19.80323327,\n",
       "       15.43355712, 18.10018   , 20.24580304, 21.58471663,  7.24881755,\n",
       "       14.76129925,  8.71097842, 14.52040684, 11.32718196, 12.01064413,\n",
       "       18.43070679, 17.07498675, 11.13110675, 22.44744756, 17.30467486,\n",
       "       13.9882027 , 13.84254683, 21.00209314, 11.16471964, 16.86210509,\n",
       "       23.23174841, 15.33832059,  7.99390336, 22.45865186, 21.67435101,\n",
       "       23.35499569, 14.57642833,  7.42808632,  9.65213944, 21.82560903,\n",
       "       19.28783557,  8.44767742, 19.18699689, 15.71926671, 10.43644028,\n",
       "        7.94908617,  7.35525838, 16.61000839,  6.98551655, 19.73600749,\n",
       "       10.16753714, 21.89843697, 19.4054807 , 17.47273932, 19.29903987,\n",
       "       18.68840564,  9.0751181 , 13.44479425,  8.48689246, 19.49511508,\n",
       "       23.17572692, 18.53714762, 19.67438385,  8.27961295, 19.18139474,\n",
       "       14.80611644, 18.0889757 ,  7.99950551,  9.74737597, 19.4054807 ,\n",
       "       22.71074856,  7.41688202, 14.67166487, 13.14788036, 18.13939504,\n",
       "       22.96844741, 16.10581499,  9.15915033, 11.83137536, 19.25982483,\n",
       "        7.43368847, 16.5427826 , 17.17582543, 11.97142909, 21.16455546,\n",
       "       20.57072767, 14.86213793,  7.89306468, 13.09746102, 19.83684617,\n",
       "       14.19548221,  7.90987112, 12.39159026, 20.08334072, 18.75002928,\n",
       "       20.39706106, 19.71920104,  8.34683874,  8.5485161 , 11.17592394,\n",
       "       20.38025461, 19.94888915, 20.38585676, 22.67153352, 10.77817137,\n",
       "       15.33271844, 18.75563143, 18.01614777, 13.69689095, 10.64932194,\n",
       "       10.82298856,  8.35244089, 20.29062023, 13.51202004, 12.30755802,\n",
       "        7.17598962, 21.66314671, 11.22074113, 14.32433163, 12.20671934])"
      ]
     },
     "execution_count": 88,
     "metadata": {},
     "output_type": "execute_result"
    }
   ],
   "source": [
    "y_train_pred"
   ]
  },
  {
   "cell_type": "code",
   "execution_count": 89,
   "id": "bb2c54e2",
   "metadata": {},
   "outputs": [
    {
     "data": {
      "text/plain": [
       "<Figure size 432x288 with 0 Axes>"
      ]
     },
     "metadata": {},
     "output_type": "display_data"
    }
   ],
   "source": [
    "fig = plt.figure()\n"
   ]
  },
  {
   "cell_type": "code",
   "execution_count": 90,
   "id": "8178d1e4",
   "metadata": {},
   "outputs": [
    {
     "name": "stderr",
     "output_type": "stream",
     "text": [
      "C:\\ProgramData\\Anaconda3\\lib\\site-packages\\seaborn\\distributions.py:2619: FutureWarning: `distplot` is a deprecated function and will be removed in a future version. Please adapt your code to use either `displot` (a figure-level function with similar flexibility) or `histplot` (an axes-level function for histograms).\n",
      "  warnings.warn(msg, FutureWarning)\n"
     ]
    },
    {
     "data": {
      "text/plain": [
       "<AxesSubplot:xlabel='Sales', ylabel='Density'>"
      ]
     },
     "execution_count": 90,
     "metadata": {},
     "output_type": "execute_result"
    },
    {
     "data": {
      "image/png": "[encoded data removed]",
      "text/plain": [
       "<Figure size 432x288 with 1 Axes>"
      ]
     },
     "metadata": {
      "needs_background": "light"
     },
     "output_type": "display_data"
    }
   ],
   "source": [
    "sns.distplot(res, bins = 15)\n"
   ]
  },
  {
   "cell_type": "code",
   "execution_count": 91,
   "id": "efb947cf",
   "metadata": {},
   "outputs": [
    {
     "data": {
      "text/plain": [
       "Text(0.5, 0.98, 'Error Teams')"
      ]
     },
     "execution_count": 91,
     "metadata": {},
     "output_type": "execute_result"
    }
   ],
   "source": [
    "fig.suptitle(\"Error Teams\",fontsize = 15)\n"
   ]
  },
  {
   "cell_type": "code",
   "execution_count": 92,
   "id": "ee4ab65d",
   "metadata": {},
   "outputs": [
    {
     "data": {
      "text/plain": [
       "Text(0.5, 0, 'Diffrernce in y_tarin and y_train_pred')"
      ]
     },
     "execution_count": 92,
     "metadata": {},
     "output_type": "execute_result"
    },
    {
     "data": {
      "image/png": "[encoded data removed]",
      "text/plain": [
       "<Figure size 432x288 with 1 Axes>"
      ]
     },
     "metadata": {
      "needs_background": "light"
     },
     "output_type": "display_data"
    }
   ],
   "source": [
    "plt.xlabel(\"Diffrernce in y_tarin and y_train_pred\",fontsize = 15)\n"
   ]
  },
  {
   "cell_type": "code",
   "execution_count": 93,
   "id": "bbd0ad53",
   "metadata": {},
   "outputs": [],
   "source": [
    "plt.show()"
   ]
  },
  {
   "cell_type": "code",
   "execution_count": 94,
   "id": "eccb30bd",
   "metadata": {},
   "outputs": [
    {
     "name": "stderr",
     "output_type": "stream",
     "text": [
      "C:\\ProgramData\\Anaconda3\\lib\\site-packages\\seaborn\\distributions.py:2619: FutureWarning: `distplot` is a deprecated function and will be removed in a future version. Please adapt your code to use either `displot` (a figure-level function with similar flexibility) or `histplot` (an axes-level function for histograms).\n",
      "  warnings.warn(msg, FutureWarning)\n"
     ]
    },
    {
     "data": {
      "image/png": "[encoded data removed]",
      "text/plain": [
       "<Figure size 432x288 with 1 Axes>"
      ]
     },
     "metadata": {
      "needs_background": "light"
     },
     "output_type": "display_data"
    }
   ],
   "source": [
    "fig = plt.figure()\n",
    "sns.distplot(res, bins = 15)\n",
    "fig.suptitle(\"Error Teams\",fontsize = 15)\n",
    "plt.xlabel(\"Diffrernce in y_tarin and y_train_pred\",fontsize = 15)\n",
    "plt.show()\n"
   ]
  },
  {
   "cell_type": "code",
   "execution_count": 95,
   "id": "4b233e09",
   "metadata": {},
   "outputs": [
    {
     "data": {
      "image/png": "[encoded data removed]",
      "text/plain": [
       "<Figure size 432x288 with 1 Axes>"
      ]
     },
     "metadata": {
      "needs_background": "light"
     },
     "output_type": "display_data"
    }
   ],
   "source": [
    "plt.scatter(x_train,res)\n",
    "plt.show()"
   ]
  },
  {
   "cell_type": "code",
   "execution_count": 96,
   "id": "71e098a7",
   "metadata": {},
   "outputs": [],
   "source": [
    "x_test_constant = sm.add_constant(x_test)\n",
    "y_pred = model.predict(x_test_constant)"
   ]
  },
  {
   "cell_type": "code",
   "execution_count": 97,
   "id": "e0796bc3",
   "metadata": {},
   "outputs": [
    {
     "data": {
      "text/plain": [
       "array([11.05827881, 16.16183648, 17.50075007, 22.64352277,  9.45046208,\n",
       "       23.39421073, 19.01333028, 10.90141864, 11.892999  , 13.7249017 ,\n",
       "       14.4699875 , 14.7444928 ,  8.0443227 , 12.33556877, 13.68008451,\n",
       "        7.68578517, 23.05808179, 19.1421797 ,  9.94345118,  8.0331184 ,\n",
       "       10.81178426, 12.22352579,  7.60175293, 17.46713718, 18.97411523,\n",
       "       16.75566426,  9.01349446, 12.69970845, 18.29065307, 21.80320044,\n",
       "       14.29071874, 12.4083967 , 11.15351535, 14.75009495, 12.96300945,\n",
       "        9.43925778, 10.0947092 , 12.57085902, 17.30467486, 22.87321088])"
      ]
     },
     "execution_count": 97,
     "metadata": {},
     "output_type": "execute_result"
    }
   ],
   "source": [
    "y_pred"
   ]
  },
  {
   "cell_type": "code",
   "execution_count": 98,
   "id": "e2e3ad1f",
   "metadata": {},
   "outputs": [],
   "source": [
    "from sklearn.metrics import mean_squared_error"
   ]
  },
  {
   "cell_type": "code",
   "execution_count": 99,
   "id": "7ae35f50",
   "metadata": {},
   "outputs": [],
   "source": [
    "from sklearn.metrics import r2_score"
   ]
  },
  {
   "cell_type": "code",
   "execution_count": 100,
   "id": "f74e01f4",
   "metadata": {},
   "outputs": [
    {
     "data": {
      "text/plain": [
       "1.8516003327242583"
      ]
     },
     "execution_count": 100,
     "metadata": {},
     "output_type": "execute_result"
    }
   ],
   "source": [
    "np.sqrt(mean_squared_error(y_test,y_pred))"
   ]
  },
  {
   "cell_type": "code",
   "execution_count": 101,
   "id": "b265a35a",
   "metadata": {},
   "outputs": [],
   "source": [
    "r2 = r2_score(y_test,y_pred)"
   ]
  },
  {
   "cell_type": "code",
   "execution_count": 102,
   "id": "b069e7dd",
   "metadata": {},
   "outputs": [
    {
     "data": {
      "text/plain": [
       "0.8392275250309476"
      ]
     },
     "execution_count": 102,
     "metadata": {},
     "output_type": "execute_result"
    }
   ],
   "source": [
    "r2"
   ]
  },
  {
   "cell_type": "code",
   "execution_count": 103,
   "id": "512d4bd5",
   "metadata": {},
   "outputs": [
    {
     "data": {
      "image/png": "[encoded data removed]",
      "text/plain": [
       "<Figure size 432x288 with 1 Axes>"
      ]
     },
     "metadata": {
      "needs_background": "light"
     },
     "output_type": "display_data"
    }
   ],
   "source": [
    "plt.scatter(x_test,y_test)\n",
    "plt.plot(x_test,6.9955+0.0541*x_test,\"y\")\n",
    "plt.show()"
   ]
  },
  {
   "cell_type": "markdown",
   "id": "f8dbe362",
   "metadata": {},
   "source": [
    "The success of this sales prediction project underscores the robust capabilities of Python for proficient data analysis and machine learning. The developed model emerges as a powerful asset for businesses, offering a predictive tool to anticipate forthcoming sales trends. By leveraging this tool, organizations can strategically allocate resources, enhance operational efficiency, and make well-informed decisions. The seamless integration of predictive analytics into business processes not only signifies a commitment to adaptability but also positions the enterprise for sustained success and competitiveness within the ever-evolving market landscape."
   ]
  },
  {
   "cell_type": "code",
   "execution_count": null,
   "id": "ef54beb8",
   "metadata": {},
   "outputs": [],
   "source": []
  }
 ],
 "metadata": {
  "kernelspec": {
   "display_name": "Python 3 (ipykernel)",
   "language": "python",
   "name": "python3"
  },
  "language_info": {
   "codemirror_mode": {
    "name": "ipython",
    "version": 3
   },
   "file_extension": ".py",
   "mimetype": "text/x-python",
   "name": "python",
   "nbconvert_exporter": "python",
   "pygments_lexer": "ipython3",
   "version": "3.11.5"
  }
 },
 "nbformat": 4,
 "nbformat_minor": 5
}
